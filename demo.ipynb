{
 "cells": [
  {
   "cell_type": "code",
   "execution_count": null,
   "metadata": {},
   "outputs": [],
   "source": [
    "import qadence\n",
    "\n",
    "from qadence import RX, FeatureParameter, QuantumCircuit, Z, chain, hea\n",
    "from qadence_model.constructors import QNN "
   ]
  },
  {
   "cell_type": "code",
   "execution_count": 17,
   "metadata": {},
   "outputs": [],
   "source": [
    "n_qubits = 2\n",
    "features = [FeatureParameter(f\"x_{i}\") for i in range(n_qubits)]\n",
    "feature_map = chain(*(RX(i, features[i]) for i in range(n_qubits)))\n",
    "ansatz = hea(n_qubits=n_qubits, depth=1)\n",
    "circuit = QuantumCircuit(n_qubits, chain(feature_map, ansatz))\n",
    "\n",
    "observable = Z(0)\n",
    "\n",
    "# QNN module\n",
    "qnn = QNN(circuit=circuit, observable=observable, inputs=[f\"x_{i}\" for i in range(n_qubits)])\n"
   ]
  },
  {
   "cell_type": "code",
   "execution_count": 18,
   "metadata": {},
   "outputs": [],
   "source": [
    "from perceptrain import Trainer"
   ]
  },
  {
   "cell_type": "code",
   "execution_count": null,
   "metadata": {},
   "outputs": [],
   "source": []
  }
 ],
 "metadata": {
  "kernelspec": {
   "display_name": "qadence-model",
   "language": "python",
   "name": "python3"
  },
  "language_info": {
   "codemirror_mode": {
    "name": "ipython",
    "version": 3
   },
   "file_extension": ".py",
   "mimetype": "text/x-python",
   "name": "python",
   "nbconvert_exporter": "python",
   "pygments_lexer": "ipython3",
   "version": "3.10.15"
  }
 },
 "nbformat": 4,
 "nbformat_minor": 2
}
